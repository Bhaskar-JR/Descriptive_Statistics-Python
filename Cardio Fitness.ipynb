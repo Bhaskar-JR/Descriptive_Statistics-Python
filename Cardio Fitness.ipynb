{
 "cells": [
  {
   "cell_type": "markdown",
   "id": "frozen-parameter",
   "metadata": {},
   "source": [
    "### Cardio Good Fitness Case Study - Descriptive Statistics  \n",
    "\n",
    "The market research team at AdRight is assigned the task to identify the profile of the typical customer for each treadmill product offered by CardioGood Fitness. The market research team decides to investigate whether there are differences across the product lines with respect to customer characteristics. The team decides to collect data on individuals who purchased a treadmill at a CardioGoodFitness retail store during the prior three months. The data are stored in the CardioGoodFitness.csv file.\n",
    "\n",
    "#### The team identifies the following customer variables to study:  \n",
    "* product purchased, TM195, TM498, or TM798;  \n",
    "* gender;  \n",
    "* age, in years;  \n",
    "* education, in years;  \n",
    "* relationship status, single or partnered;  \n",
    "* annual household income ;  \n",
    "* average number of times the customer plans to use the treadmill each week;  \n",
    "* average number of miles the customer expects to walk/run each week;\n",
    "* and self-rated fitness on an 1-to-5 scale, where 1 is poor shape and 5 is excellent shape.  \n",
    "\n"
   ]
  },
  {
   "cell_type": "markdown",
   "id": "eleven-gibson",
   "metadata": {},
   "source": [
    "#### Importing the required packages"
   ]
  },
  {
   "cell_type": "code",
   "execution_count": 6,
   "id": "cloudy-suffering",
   "metadata": {},
   "outputs": [],
   "source": [
    "import numpy as np\n",
    "import pandas as pd\n",
    "import matplotlib.pyplot as plt\n",
    "%matplotlib inline\n",
    "\n",
    "import seaborn as sns"
   ]
  },
  {
   "cell_type": "code",
   "execution_count": 7,
   "id": "tropical-uganda",
   "metadata": {},
   "outputs": [],
   "source": [
    "df = pd.read_csv(\"CardioGoodFitness.csv\")"
   ]
  },
  {
   "cell_type": "code",
   "execution_count": 8,
   "id": "smaller-anchor",
   "metadata": {},
   "outputs": [
    {
     "data": {
      "text/html": [
       "<div>\n",
       "<style scoped>\n",
       "    .dataframe tbody tr th:only-of-type {\n",
       "        vertical-align: middle;\n",
       "    }\n",
       "\n",
       "    .dataframe tbody tr th {\n",
       "        vertical-align: top;\n",
       "    }\n",
       "\n",
       "    .dataframe thead th {\n",
       "        text-align: right;\n",
       "    }\n",
       "</style>\n",
       "<table border=\"1\" class=\"dataframe\">\n",
       "  <thead>\n",
       "    <tr style=\"text-align: right;\">\n",
       "      <th></th>\n",
       "      <th>Product</th>\n",
       "      <th>Age</th>\n",
       "      <th>Gender</th>\n",
       "      <th>Education</th>\n",
       "      <th>MaritalStatus</th>\n",
       "      <th>Usage</th>\n",
       "      <th>Fitness</th>\n",
       "      <th>Income</th>\n",
       "      <th>Miles</th>\n",
       "    </tr>\n",
       "  </thead>\n",
       "  <tbody>\n",
       "    <tr>\n",
       "      <th>0</th>\n",
       "      <td>TM195</td>\n",
       "      <td>18</td>\n",
       "      <td>Male</td>\n",
       "      <td>14</td>\n",
       "      <td>Single</td>\n",
       "      <td>3</td>\n",
       "      <td>4</td>\n",
       "      <td>29562</td>\n",
       "      <td>112</td>\n",
       "    </tr>\n",
       "    <tr>\n",
       "      <th>1</th>\n",
       "      <td>TM195</td>\n",
       "      <td>19</td>\n",
       "      <td>Male</td>\n",
       "      <td>15</td>\n",
       "      <td>Single</td>\n",
       "      <td>2</td>\n",
       "      <td>3</td>\n",
       "      <td>31836</td>\n",
       "      <td>75</td>\n",
       "    </tr>\n",
       "    <tr>\n",
       "      <th>2</th>\n",
       "      <td>TM195</td>\n",
       "      <td>19</td>\n",
       "      <td>Female</td>\n",
       "      <td>14</td>\n",
       "      <td>Partnered</td>\n",
       "      <td>4</td>\n",
       "      <td>3</td>\n",
       "      <td>30699</td>\n",
       "      <td>66</td>\n",
       "    </tr>\n",
       "    <tr>\n",
       "      <th>3</th>\n",
       "      <td>TM195</td>\n",
       "      <td>19</td>\n",
       "      <td>Male</td>\n",
       "      <td>12</td>\n",
       "      <td>Single</td>\n",
       "      <td>3</td>\n",
       "      <td>3</td>\n",
       "      <td>32973</td>\n",
       "      <td>85</td>\n",
       "    </tr>\n",
       "    <tr>\n",
       "      <th>4</th>\n",
       "      <td>TM195</td>\n",
       "      <td>20</td>\n",
       "      <td>Male</td>\n",
       "      <td>13</td>\n",
       "      <td>Partnered</td>\n",
       "      <td>4</td>\n",
       "      <td>2</td>\n",
       "      <td>35247</td>\n",
       "      <td>47</td>\n",
       "    </tr>\n",
       "  </tbody>\n",
       "</table>\n",
       "</div>"
      ],
      "text/plain": [
       "  Product  Age  Gender  Education MaritalStatus  Usage  Fitness  Income  Miles\n",
       "0   TM195   18    Male         14        Single      3        4   29562    112\n",
       "1   TM195   19    Male         15        Single      2        3   31836     75\n",
       "2   TM195   19  Female         14     Partnered      4        3   30699     66\n",
       "3   TM195   19    Male         12        Single      3        3   32973     85\n",
       "4   TM195   20    Male         13     Partnered      4        2   35247     47"
      ]
     },
     "execution_count": 8,
     "metadata": {},
     "output_type": "execute_result"
    }
   ],
   "source": [
    "df.head()"
   ]
  },
  {
   "cell_type": "code",
   "execution_count": 9,
   "id": "civilian-buying",
   "metadata": {},
   "outputs": [
    {
     "data": {
      "text/html": [
       "<div>\n",
       "<style scoped>\n",
       "    .dataframe tbody tr th:only-of-type {\n",
       "        vertical-align: middle;\n",
       "    }\n",
       "\n",
       "    .dataframe tbody tr th {\n",
       "        vertical-align: top;\n",
       "    }\n",
       "\n",
       "    .dataframe thead th {\n",
       "        text-align: right;\n",
       "    }\n",
       "</style>\n",
       "<table border=\"1\" class=\"dataframe\">\n",
       "  <thead>\n",
       "    <tr style=\"text-align: right;\">\n",
       "      <th></th>\n",
       "      <th>Product</th>\n",
       "      <th>Age</th>\n",
       "      <th>Gender</th>\n",
       "      <th>Education</th>\n",
       "      <th>MaritalStatus</th>\n",
       "      <th>Usage</th>\n",
       "      <th>Fitness</th>\n",
       "      <th>Income</th>\n",
       "      <th>Miles</th>\n",
       "    </tr>\n",
       "  </thead>\n",
       "  <tbody>\n",
       "    <tr>\n",
       "      <th>count</th>\n",
       "      <td>180</td>\n",
       "      <td>180.000000</td>\n",
       "      <td>180</td>\n",
       "      <td>180.000000</td>\n",
       "      <td>180</td>\n",
       "      <td>180.000000</td>\n",
       "      <td>180.000000</td>\n",
       "      <td>180.000000</td>\n",
       "      <td>180.000000</td>\n",
       "    </tr>\n",
       "    <tr>\n",
       "      <th>unique</th>\n",
       "      <td>3</td>\n",
       "      <td>NaN</td>\n",
       "      <td>2</td>\n",
       "      <td>NaN</td>\n",
       "      <td>2</td>\n",
       "      <td>NaN</td>\n",
       "      <td>NaN</td>\n",
       "      <td>NaN</td>\n",
       "      <td>NaN</td>\n",
       "    </tr>\n",
       "    <tr>\n",
       "      <th>top</th>\n",
       "      <td>TM195</td>\n",
       "      <td>NaN</td>\n",
       "      <td>Male</td>\n",
       "      <td>NaN</td>\n",
       "      <td>Partnered</td>\n",
       "      <td>NaN</td>\n",
       "      <td>NaN</td>\n",
       "      <td>NaN</td>\n",
       "      <td>NaN</td>\n",
       "    </tr>\n",
       "    <tr>\n",
       "      <th>freq</th>\n",
       "      <td>80</td>\n",
       "      <td>NaN</td>\n",
       "      <td>104</td>\n",
       "      <td>NaN</td>\n",
       "      <td>107</td>\n",
       "      <td>NaN</td>\n",
       "      <td>NaN</td>\n",
       "      <td>NaN</td>\n",
       "      <td>NaN</td>\n",
       "    </tr>\n",
       "    <tr>\n",
       "      <th>mean</th>\n",
       "      <td>NaN</td>\n",
       "      <td>28.788889</td>\n",
       "      <td>NaN</td>\n",
       "      <td>15.572222</td>\n",
       "      <td>NaN</td>\n",
       "      <td>3.455556</td>\n",
       "      <td>3.311111</td>\n",
       "      <td>53719.577778</td>\n",
       "      <td>103.194444</td>\n",
       "    </tr>\n",
       "    <tr>\n",
       "      <th>std</th>\n",
       "      <td>NaN</td>\n",
       "      <td>6.943498</td>\n",
       "      <td>NaN</td>\n",
       "      <td>1.617055</td>\n",
       "      <td>NaN</td>\n",
       "      <td>1.084797</td>\n",
       "      <td>0.958869</td>\n",
       "      <td>16506.684226</td>\n",
       "      <td>51.863605</td>\n",
       "    </tr>\n",
       "    <tr>\n",
       "      <th>min</th>\n",
       "      <td>NaN</td>\n",
       "      <td>18.000000</td>\n",
       "      <td>NaN</td>\n",
       "      <td>12.000000</td>\n",
       "      <td>NaN</td>\n",
       "      <td>2.000000</td>\n",
       "      <td>1.000000</td>\n",
       "      <td>29562.000000</td>\n",
       "      <td>21.000000</td>\n",
       "    </tr>\n",
       "    <tr>\n",
       "      <th>25%</th>\n",
       "      <td>NaN</td>\n",
       "      <td>24.000000</td>\n",
       "      <td>NaN</td>\n",
       "      <td>14.000000</td>\n",
       "      <td>NaN</td>\n",
       "      <td>3.000000</td>\n",
       "      <td>3.000000</td>\n",
       "      <td>44058.750000</td>\n",
       "      <td>66.000000</td>\n",
       "    </tr>\n",
       "    <tr>\n",
       "      <th>50%</th>\n",
       "      <td>NaN</td>\n",
       "      <td>26.000000</td>\n",
       "      <td>NaN</td>\n",
       "      <td>16.000000</td>\n",
       "      <td>NaN</td>\n",
       "      <td>3.000000</td>\n",
       "      <td>3.000000</td>\n",
       "      <td>50596.500000</td>\n",
       "      <td>94.000000</td>\n",
       "    </tr>\n",
       "    <tr>\n",
       "      <th>75%</th>\n",
       "      <td>NaN</td>\n",
       "      <td>33.000000</td>\n",
       "      <td>NaN</td>\n",
       "      <td>16.000000</td>\n",
       "      <td>NaN</td>\n",
       "      <td>4.000000</td>\n",
       "      <td>4.000000</td>\n",
       "      <td>58668.000000</td>\n",
       "      <td>114.750000</td>\n",
       "    </tr>\n",
       "    <tr>\n",
       "      <th>max</th>\n",
       "      <td>NaN</td>\n",
       "      <td>50.000000</td>\n",
       "      <td>NaN</td>\n",
       "      <td>21.000000</td>\n",
       "      <td>NaN</td>\n",
       "      <td>7.000000</td>\n",
       "      <td>5.000000</td>\n",
       "      <td>104581.000000</td>\n",
       "      <td>360.000000</td>\n",
       "    </tr>\n",
       "  </tbody>\n",
       "</table>\n",
       "</div>"
      ],
      "text/plain": [
       "       Product         Age Gender   Education MaritalStatus       Usage  \\\n",
       "count      180  180.000000    180  180.000000           180  180.000000   \n",
       "unique       3         NaN      2         NaN             2         NaN   \n",
       "top      TM195         NaN   Male         NaN     Partnered         NaN   \n",
       "freq        80         NaN    104         NaN           107         NaN   \n",
       "mean       NaN   28.788889    NaN   15.572222           NaN    3.455556   \n",
       "std        NaN    6.943498    NaN    1.617055           NaN    1.084797   \n",
       "min        NaN   18.000000    NaN   12.000000           NaN    2.000000   \n",
       "25%        NaN   24.000000    NaN   14.000000           NaN    3.000000   \n",
       "50%        NaN   26.000000    NaN   16.000000           NaN    3.000000   \n",
       "75%        NaN   33.000000    NaN   16.000000           NaN    4.000000   \n",
       "max        NaN   50.000000    NaN   21.000000           NaN    7.000000   \n",
       "\n",
       "           Fitness         Income       Miles  \n",
       "count   180.000000     180.000000  180.000000  \n",
       "unique         NaN            NaN         NaN  \n",
       "top            NaN            NaN         NaN  \n",
       "freq           NaN            NaN         NaN  \n",
       "mean      3.311111   53719.577778  103.194444  \n",
       "std       0.958869   16506.684226   51.863605  \n",
       "min       1.000000   29562.000000   21.000000  \n",
       "25%       3.000000   44058.750000   66.000000  \n",
       "50%       3.000000   50596.500000   94.000000  \n",
       "75%       4.000000   58668.000000  114.750000  \n",
       "max       5.000000  104581.000000  360.000000  "
      ]
     },
     "execution_count": 9,
     "metadata": {},
     "output_type": "execute_result"
    }
   ],
   "source": [
    "df.describe(include = \"all\")"
   ]
  },
  {
   "cell_type": "code",
   "execution_count": 10,
   "id": "complete-actor",
   "metadata": {},
   "outputs": [
    {
     "data": {
      "text/html": [
       "<div>\n",
       "<style scoped>\n",
       "    .dataframe tbody tr th:only-of-type {\n",
       "        vertical-align: middle;\n",
       "    }\n",
       "\n",
       "    .dataframe tbody tr th {\n",
       "        vertical-align: top;\n",
       "    }\n",
       "\n",
       "    .dataframe thead th {\n",
       "        text-align: right;\n",
       "    }\n",
       "</style>\n",
       "<table border=\"1\" class=\"dataframe\">\n",
       "  <thead>\n",
       "    <tr style=\"text-align: right;\">\n",
       "      <th></th>\n",
       "      <th>Age</th>\n",
       "      <th>Education</th>\n",
       "      <th>Usage</th>\n",
       "      <th>Fitness</th>\n",
       "      <th>Income</th>\n",
       "      <th>Miles</th>\n",
       "    </tr>\n",
       "  </thead>\n",
       "  <tbody>\n",
       "    <tr>\n",
       "      <th>count</th>\n",
       "      <td>180.000000</td>\n",
       "      <td>180.000000</td>\n",
       "      <td>180.000000</td>\n",
       "      <td>180.000000</td>\n",
       "      <td>180.000000</td>\n",
       "      <td>180.000000</td>\n",
       "    </tr>\n",
       "    <tr>\n",
       "      <th>mean</th>\n",
       "      <td>28.788889</td>\n",
       "      <td>15.572222</td>\n",
       "      <td>3.455556</td>\n",
       "      <td>3.311111</td>\n",
       "      <td>53719.577778</td>\n",
       "      <td>103.194444</td>\n",
       "    </tr>\n",
       "    <tr>\n",
       "      <th>std</th>\n",
       "      <td>6.943498</td>\n",
       "      <td>1.617055</td>\n",
       "      <td>1.084797</td>\n",
       "      <td>0.958869</td>\n",
       "      <td>16506.684226</td>\n",
       "      <td>51.863605</td>\n",
       "    </tr>\n",
       "    <tr>\n",
       "      <th>min</th>\n",
       "      <td>18.000000</td>\n",
       "      <td>12.000000</td>\n",
       "      <td>2.000000</td>\n",
       "      <td>1.000000</td>\n",
       "      <td>29562.000000</td>\n",
       "      <td>21.000000</td>\n",
       "    </tr>\n",
       "    <tr>\n",
       "      <th>25%</th>\n",
       "      <td>24.000000</td>\n",
       "      <td>14.000000</td>\n",
       "      <td>3.000000</td>\n",
       "      <td>3.000000</td>\n",
       "      <td>44058.750000</td>\n",
       "      <td>66.000000</td>\n",
       "    </tr>\n",
       "    <tr>\n",
       "      <th>50%</th>\n",
       "      <td>26.000000</td>\n",
       "      <td>16.000000</td>\n",
       "      <td>3.000000</td>\n",
       "      <td>3.000000</td>\n",
       "      <td>50596.500000</td>\n",
       "      <td>94.000000</td>\n",
       "    </tr>\n",
       "    <tr>\n",
       "      <th>75%</th>\n",
       "      <td>33.000000</td>\n",
       "      <td>16.000000</td>\n",
       "      <td>4.000000</td>\n",
       "      <td>4.000000</td>\n",
       "      <td>58668.000000</td>\n",
       "      <td>114.750000</td>\n",
       "    </tr>\n",
       "    <tr>\n",
       "      <th>max</th>\n",
       "      <td>50.000000</td>\n",
       "      <td>21.000000</td>\n",
       "      <td>7.000000</td>\n",
       "      <td>5.000000</td>\n",
       "      <td>104581.000000</td>\n",
       "      <td>360.000000</td>\n",
       "    </tr>\n",
       "  </tbody>\n",
       "</table>\n",
       "</div>"
      ],
      "text/plain": [
       "              Age   Education       Usage     Fitness         Income  \\\n",
       "count  180.000000  180.000000  180.000000  180.000000     180.000000   \n",
       "mean    28.788889   15.572222    3.455556    3.311111   53719.577778   \n",
       "std      6.943498    1.617055    1.084797    0.958869   16506.684226   \n",
       "min     18.000000   12.000000    2.000000    1.000000   29562.000000   \n",
       "25%     24.000000   14.000000    3.000000    3.000000   44058.750000   \n",
       "50%     26.000000   16.000000    3.000000    3.000000   50596.500000   \n",
       "75%     33.000000   16.000000    4.000000    4.000000   58668.000000   \n",
       "max     50.000000   21.000000    7.000000    5.000000  104581.000000   \n",
       "\n",
       "            Miles  \n",
       "count  180.000000  \n",
       "mean   103.194444  \n",
       "std     51.863605  \n",
       "min     21.000000  \n",
       "25%     66.000000  \n",
       "50%     94.000000  \n",
       "75%    114.750000  \n",
       "max    360.000000  "
      ]
     },
     "execution_count": 10,
     "metadata": {},
     "output_type": "execute_result"
    }
   ],
   "source": [
    "df.describe()"
   ]
  },
  {
   "cell_type": "code",
   "execution_count": 11,
   "id": "alien-injury",
   "metadata": {},
   "outputs": [
    {
     "data": {
      "text/plain": [
       "Product          object\n",
       "Age               int64\n",
       "Gender           object\n",
       "Education         int64\n",
       "MaritalStatus    object\n",
       "Usage             int64\n",
       "Fitness           int64\n",
       "Income            int64\n",
       "Miles             int64\n",
       "dtype: object"
      ]
     },
     "execution_count": 11,
     "metadata": {},
     "output_type": "execute_result"
    }
   ],
   "source": [
    "df.dtypes"
   ]
  },
  {
   "cell_type": "code",
   "execution_count": 12,
   "id": "amended-inspiration",
   "metadata": {},
   "outputs": [
    {
     "data": {
      "text/html": [
       "<div>\n",
       "<style scoped>\n",
       "    .dataframe tbody tr th:only-of-type {\n",
       "        vertical-align: middle;\n",
       "    }\n",
       "\n",
       "    .dataframe tbody tr th {\n",
       "        vertical-align: top;\n",
       "    }\n",
       "\n",
       "    .dataframe thead th {\n",
       "        text-align: right;\n",
       "    }\n",
       "</style>\n",
       "<table border=\"1\" class=\"dataframe\">\n",
       "  <thead>\n",
       "    <tr style=\"text-align: right;\">\n",
       "      <th></th>\n",
       "      <th>Product</th>\n",
       "      <th>Gender</th>\n",
       "      <th>MaritalStatus</th>\n",
       "    </tr>\n",
       "  </thead>\n",
       "  <tbody>\n",
       "    <tr>\n",
       "      <th>0</th>\n",
       "      <td>TM195</td>\n",
       "      <td>Male</td>\n",
       "      <td>Single</td>\n",
       "    </tr>\n",
       "    <tr>\n",
       "      <th>1</th>\n",
       "      <td>TM195</td>\n",
       "      <td>Male</td>\n",
       "      <td>Single</td>\n",
       "    </tr>\n",
       "    <tr>\n",
       "      <th>2</th>\n",
       "      <td>TM195</td>\n",
       "      <td>Female</td>\n",
       "      <td>Partnered</td>\n",
       "    </tr>\n",
       "    <tr>\n",
       "      <th>3</th>\n",
       "      <td>TM195</td>\n",
       "      <td>Male</td>\n",
       "      <td>Single</td>\n",
       "    </tr>\n",
       "    <tr>\n",
       "      <th>4</th>\n",
       "      <td>TM195</td>\n",
       "      <td>Male</td>\n",
       "      <td>Partnered</td>\n",
       "    </tr>\n",
       "    <tr>\n",
       "      <th>...</th>\n",
       "      <td>...</td>\n",
       "      <td>...</td>\n",
       "      <td>...</td>\n",
       "    </tr>\n",
       "    <tr>\n",
       "      <th>175</th>\n",
       "      <td>TM798</td>\n",
       "      <td>Male</td>\n",
       "      <td>Single</td>\n",
       "    </tr>\n",
       "    <tr>\n",
       "      <th>176</th>\n",
       "      <td>TM798</td>\n",
       "      <td>Male</td>\n",
       "      <td>Single</td>\n",
       "    </tr>\n",
       "    <tr>\n",
       "      <th>177</th>\n",
       "      <td>TM798</td>\n",
       "      <td>Male</td>\n",
       "      <td>Single</td>\n",
       "    </tr>\n",
       "    <tr>\n",
       "      <th>178</th>\n",
       "      <td>TM798</td>\n",
       "      <td>Male</td>\n",
       "      <td>Partnered</td>\n",
       "    </tr>\n",
       "    <tr>\n",
       "      <th>179</th>\n",
       "      <td>TM798</td>\n",
       "      <td>Male</td>\n",
       "      <td>Partnered</td>\n",
       "    </tr>\n",
       "  </tbody>\n",
       "</table>\n",
       "<p>180 rows × 3 columns</p>\n",
       "</div>"
      ],
      "text/plain": [
       "    Product  Gender MaritalStatus\n",
       "0     TM195    Male        Single\n",
       "1     TM195    Male        Single\n",
       "2     TM195  Female     Partnered\n",
       "3     TM195    Male        Single\n",
       "4     TM195    Male     Partnered\n",
       "..      ...     ...           ...\n",
       "175   TM798    Male        Single\n",
       "176   TM798    Male        Single\n",
       "177   TM798    Male        Single\n",
       "178   TM798    Male     Partnered\n",
       "179   TM798    Male     Partnered\n",
       "\n",
       "[180 rows x 3 columns]"
      ]
     },
     "execution_count": 12,
     "metadata": {},
     "output_type": "execute_result"
    }
   ],
   "source": [
    "df.select_dtypes(exclude = [\"number\"])"
   ]
  },
  {
   "cell_type": "code",
   "execution_count": 13,
   "id": "heard-irrigation",
   "metadata": {},
   "outputs": [
    {
     "data": {
      "text/plain": [
       "array([[<AxesSubplot:title={'center':'Age'}>,\n",
       "        <AxesSubplot:title={'center':'Education'}>],\n",
       "       [<AxesSubplot:title={'center':'Usage'}>,\n",
       "        <AxesSubplot:title={'center':'Fitness'}>],\n",
       "       [<AxesSubplot:title={'center':'Income'}>,\n",
       "        <AxesSubplot:title={'center':'Miles'}>]], dtype=object)"
      ]
     },
     "execution_count": 13,
     "metadata": {},
     "output_type": "execute_result"
    },
    {
     "data": {
      "image/png": "[encoded data removed]",
      "text/plain": [
       "<Figure size 1080x1080 with 6 Axes>"
      ]
     },
     "metadata": {
      "needs_background": "light"
     },
     "output_type": "display_data"
    }
   ],
   "source": [
    "df.hist(figsize= (15,15))"
   ]
  },
  {
   "cell_type": "code",
   "execution_count": 14,
   "id": "common-darwin",
   "metadata": {},
   "outputs": [
    {
     "data": {
      "text/plain": [
       "<AxesSubplot:xlabel='Gender', ylabel='Age'>"
      ]
     },
     "execution_count": 14,
     "metadata": {},
     "output_type": "execute_result"
    },
    {
     "data": {
      "image/png": "[encoded data removed]",
      "text/plain": [
       "<Figure size 432x288 with 1 Axes>"
      ]
     },
     "metadata": {
      "needs_background": "light"
     },
     "output_type": "display_data"
    }
   ],
   "source": [
    "sns.boxplot(x = \"Gender\", y = \"Age\", data =df )"
   ]
  },
  {
   "cell_type": "markdown",
   "id": "common-dover",
   "metadata": {},
   "source": [
    "We can see outlier for age of females as there are observations even beyond the top whisker (each whisker by default extends 1.5 times the IQR).\n",
    "For males, there are no outliers for age.  \n",
    "\n",
    "The line inside the box in the boxplot represents the median. The median age for both males and females are same."
   ]
  },
  {
   "cell_type": "code",
   "execution_count": 15,
   "id": "twenty-collapse",
   "metadata": {},
   "outputs": [
    {
     "data": {
      "text/html": [
       "<div>\n",
       "<style scoped>\n",
       "    .dataframe tbody tr th:only-of-type {\n",
       "        vertical-align: middle;\n",
       "    }\n",
       "\n",
       "    .dataframe tbody tr th {\n",
       "        vertical-align: top;\n",
       "    }\n",
       "\n",
       "    .dataframe thead th {\n",
       "        text-align: right;\n",
       "    }\n",
       "</style>\n",
       "<table border=\"1\" class=\"dataframe\">\n",
       "  <thead>\n",
       "    <tr style=\"text-align: right;\">\n",
       "      <th>MaritalStatus</th>\n",
       "      <th>Partnered</th>\n",
       "      <th>Single</th>\n",
       "    </tr>\n",
       "    <tr>\n",
       "      <th>Product</th>\n",
       "      <th></th>\n",
       "      <th></th>\n",
       "    </tr>\n",
       "  </thead>\n",
       "  <tbody>\n",
       "    <tr>\n",
       "      <th>TM195</th>\n",
       "      <td>48</td>\n",
       "      <td>32</td>\n",
       "    </tr>\n",
       "    <tr>\n",
       "      <th>TM498</th>\n",
       "      <td>36</td>\n",
       "      <td>24</td>\n",
       "    </tr>\n",
       "    <tr>\n",
       "      <th>TM798</th>\n",
       "      <td>23</td>\n",
       "      <td>17</td>\n",
       "    </tr>\n",
       "  </tbody>\n",
       "</table>\n",
       "</div>"
      ],
      "text/plain": [
       "MaritalStatus  Partnered  Single\n",
       "Product                         \n",
       "TM195                 48      32\n",
       "TM498                 36      24\n",
       "TM798                 23      17"
      ]
     },
     "execution_count": 15,
     "metadata": {},
     "output_type": "execute_result"
    }
   ],
   "source": [
    "pd.crosstab(df[\"Product\"], df['MaritalStatus'])"
   ]
  },
  {
   "cell_type": "code",
   "execution_count": 16,
   "id": "smaller-buffer",
   "metadata": {},
   "outputs": [
    {
     "data": {
      "image/png": "[encoded data removed]",
      "text/plain": [
       "<Figure size 360x504 with 1 Axes>"
      ]
     },
     "metadata": {
      "needs_background": "light"
     },
     "output_type": "display_data"
    }
   ],
   "source": [
    "g = sns.countplot(x = \"Product\", hue = \"Gender\",\n",
    "                  orient = \"h\", dodge = True, data = df)\n",
    "g.figure.set_figheight(7)\n",
    "g.figure.set_figwidth(5)"
   ]
  },
  {
   "cell_type": "code",
   "execution_count": 17,
   "id": "rising-bangladesh",
   "metadata": {},
   "outputs": [
    {
     "data": {
      "text/html": [
       "<div>\n",
       "<style scoped>\n",
       "    .dataframe tbody tr th:only-of-type {\n",
       "        vertical-align: middle;\n",
       "    }\n",
       "\n",
       "    .dataframe tbody tr th {\n",
       "        vertical-align: top;\n",
       "    }\n",
       "\n",
       "    .dataframe thead tr th {\n",
       "        text-align: left;\n",
       "    }\n",
       "\n",
       "    .dataframe thead tr:last-of-type th {\n",
       "        text-align: right;\n",
       "    }\n",
       "</style>\n",
       "<table border=\"1\" class=\"dataframe\">\n",
       "  <thead>\n",
       "    <tr>\n",
       "      <th></th>\n",
       "      <th></th>\n",
       "      <th colspan=\"2\" halign=\"left\">Age</th>\n",
       "      <th colspan=\"2\" halign=\"left\">Education</th>\n",
       "      <th colspan=\"2\" halign=\"left\">Fitness</th>\n",
       "      <th colspan=\"2\" halign=\"left\">Income</th>\n",
       "      <th colspan=\"2\" halign=\"left\">Miles</th>\n",
       "      <th colspan=\"2\" halign=\"left\">Usage</th>\n",
       "    </tr>\n",
       "    <tr>\n",
       "      <th></th>\n",
       "      <th>MaritalStatus</th>\n",
       "      <th>Partnered</th>\n",
       "      <th>Single</th>\n",
       "      <th>Partnered</th>\n",
       "      <th>Single</th>\n",
       "      <th>Partnered</th>\n",
       "      <th>Single</th>\n",
       "      <th>Partnered</th>\n",
       "      <th>Single</th>\n",
       "      <th>Partnered</th>\n",
       "      <th>Single</th>\n",
       "      <th>Partnered</th>\n",
       "      <th>Single</th>\n",
       "    </tr>\n",
       "    <tr>\n",
       "      <th>Product</th>\n",
       "      <th>Gender</th>\n",
       "      <th></th>\n",
       "      <th></th>\n",
       "      <th></th>\n",
       "      <th></th>\n",
       "      <th></th>\n",
       "      <th></th>\n",
       "      <th></th>\n",
       "      <th></th>\n",
       "      <th></th>\n",
       "      <th></th>\n",
       "      <th></th>\n",
       "      <th></th>\n",
       "    </tr>\n",
       "  </thead>\n",
       "  <tbody>\n",
       "    <tr>\n",
       "      <th rowspan=\"2\" valign=\"top\">TM195</th>\n",
       "      <th>Female</th>\n",
       "      <td>27</td>\n",
       "      <td>13</td>\n",
       "      <td>27</td>\n",
       "      <td>13</td>\n",
       "      <td>27</td>\n",
       "      <td>13</td>\n",
       "      <td>27</td>\n",
       "      <td>13</td>\n",
       "      <td>27</td>\n",
       "      <td>13</td>\n",
       "      <td>27</td>\n",
       "      <td>13</td>\n",
       "    </tr>\n",
       "    <tr>\n",
       "      <th>Male</th>\n",
       "      <td>21</td>\n",
       "      <td>19</td>\n",
       "      <td>21</td>\n",
       "      <td>19</td>\n",
       "      <td>21</td>\n",
       "      <td>19</td>\n",
       "      <td>21</td>\n",
       "      <td>19</td>\n",
       "      <td>21</td>\n",
       "      <td>19</td>\n",
       "      <td>21</td>\n",
       "      <td>19</td>\n",
       "    </tr>\n",
       "    <tr>\n",
       "      <th rowspan=\"2\" valign=\"top\">TM498</th>\n",
       "      <th>Female</th>\n",
       "      <td>15</td>\n",
       "      <td>14</td>\n",
       "      <td>15</td>\n",
       "      <td>14</td>\n",
       "      <td>15</td>\n",
       "      <td>14</td>\n",
       "      <td>15</td>\n",
       "      <td>14</td>\n",
       "      <td>15</td>\n",
       "      <td>14</td>\n",
       "      <td>15</td>\n",
       "      <td>14</td>\n",
       "    </tr>\n",
       "    <tr>\n",
       "      <th>Male</th>\n",
       "      <td>21</td>\n",
       "      <td>10</td>\n",
       "      <td>21</td>\n",
       "      <td>10</td>\n",
       "      <td>21</td>\n",
       "      <td>10</td>\n",
       "      <td>21</td>\n",
       "      <td>10</td>\n",
       "      <td>21</td>\n",
       "      <td>10</td>\n",
       "      <td>21</td>\n",
       "      <td>10</td>\n",
       "    </tr>\n",
       "    <tr>\n",
       "      <th rowspan=\"2\" valign=\"top\">TM798</th>\n",
       "      <th>Female</th>\n",
       "      <td>4</td>\n",
       "      <td>3</td>\n",
       "      <td>4</td>\n",
       "      <td>3</td>\n",
       "      <td>4</td>\n",
       "      <td>3</td>\n",
       "      <td>4</td>\n",
       "      <td>3</td>\n",
       "      <td>4</td>\n",
       "      <td>3</td>\n",
       "      <td>4</td>\n",
       "      <td>3</td>\n",
       "    </tr>\n",
       "    <tr>\n",
       "      <th>Male</th>\n",
       "      <td>19</td>\n",
       "      <td>14</td>\n",
       "      <td>19</td>\n",
       "      <td>14</td>\n",
       "      <td>19</td>\n",
       "      <td>14</td>\n",
       "      <td>19</td>\n",
       "      <td>14</td>\n",
       "      <td>19</td>\n",
       "      <td>14</td>\n",
       "      <td>19</td>\n",
       "      <td>14</td>\n",
       "    </tr>\n",
       "  </tbody>\n",
       "</table>\n",
       "</div>"
      ],
      "text/plain": [
       "                     Age        Education          Fitness           Income  \\\n",
       "MaritalStatus  Partnered Single Partnered Single Partnered Single Partnered   \n",
       "Product Gender                                                                \n",
       "TM195   Female        27     13        27     13        27     13        27   \n",
       "        Male          21     19        21     19        21     19        21   \n",
       "TM498   Female        15     14        15     14        15     14        15   \n",
       "        Male          21     10        21     10        21     10        21   \n",
       "TM798   Female         4      3         4      3         4      3         4   \n",
       "        Male          19     14        19     14        19     14        19   \n",
       "\n",
       "                          Miles            Usage         \n",
       "MaritalStatus  Single Partnered Single Partnered Single  \n",
       "Product Gender                                           \n",
       "TM195   Female     13        27     13        27     13  \n",
       "        Male       19        21     19        21     19  \n",
       "TM498   Female     14        15     14        15     14  \n",
       "        Male       10        21     10        21     10  \n",
       "TM798   Female      3         4      3         4      3  \n",
       "        Male       14        19     14        19     14  "
      ]
     },
     "execution_count": 17,
     "metadata": {},
     "output_type": "execute_result"
    }
   ],
   "source": [
    "pd.pivot_table(df, index = [\"Product\", \"Gender\"],\n",
    "               columns= [\"MaritalStatus\"],aggfunc = len)"
   ]
  },
  {
   "cell_type": "code",
   "execution_count": 18,
   "id": "coral-lecture",
   "metadata": {},
   "outputs": [
    {
     "data": {
      "text/html": [
       "<div>\n",
       "<style scoped>\n",
       "    .dataframe tbody tr th:only-of-type {\n",
       "        vertical-align: middle;\n",
       "    }\n",
       "\n",
       "    .dataframe tbody tr th {\n",
       "        vertical-align: top;\n",
       "    }\n",
       "\n",
       "    .dataframe thead th {\n",
       "        text-align: right;\n",
       "    }\n",
       "</style>\n",
       "<table border=\"1\" class=\"dataframe\">\n",
       "  <thead>\n",
       "    <tr style=\"text-align: right;\">\n",
       "      <th></th>\n",
       "      <th>MaritalStatus</th>\n",
       "      <th>Partnered</th>\n",
       "      <th>Single</th>\n",
       "    </tr>\n",
       "    <tr>\n",
       "      <th>Product</th>\n",
       "      <th>Gender</th>\n",
       "      <th></th>\n",
       "      <th></th>\n",
       "    </tr>\n",
       "  </thead>\n",
       "  <tbody>\n",
       "    <tr>\n",
       "      <th rowspan=\"2\" valign=\"top\">TM195</th>\n",
       "      <th>Female</th>\n",
       "      <td>46153.777778</td>\n",
       "      <td>45742.384615</td>\n",
       "    </tr>\n",
       "    <tr>\n",
       "      <th>Male</th>\n",
       "      <td>50028.000000</td>\n",
       "      <td>43265.842105</td>\n",
       "    </tr>\n",
       "    <tr>\n",
       "      <th rowspan=\"2\" valign=\"top\">TM498</th>\n",
       "      <th>Female</th>\n",
       "      <td>49724.800000</td>\n",
       "      <td>48920.357143</td>\n",
       "    </tr>\n",
       "    <tr>\n",
       "      <th>Male</th>\n",
       "      <td>49378.285714</td>\n",
       "      <td>47071.800000</td>\n",
       "    </tr>\n",
       "    <tr>\n",
       "      <th rowspan=\"2\" valign=\"top\">TM798</th>\n",
       "      <th>Female</th>\n",
       "      <td>84972.250000</td>\n",
       "      <td>58516.000000</td>\n",
       "    </tr>\n",
       "    <tr>\n",
       "      <th>Male</th>\n",
       "      <td>81431.368421</td>\n",
       "      <td>68216.428571</td>\n",
       "    </tr>\n",
       "  </tbody>\n",
       "</table>\n",
       "</div>"
      ],
      "text/plain": [
       "MaritalStatus      Partnered        Single\n",
       "Product Gender                            \n",
       "TM195   Female  46153.777778  45742.384615\n",
       "        Male    50028.000000  43265.842105\n",
       "TM498   Female  49724.800000  48920.357143\n",
       "        Male    49378.285714  47071.800000\n",
       "TM798   Female  84972.250000  58516.000000\n",
       "        Male    81431.368421  68216.428571"
      ]
     },
     "execution_count": 18,
     "metadata": {},
     "output_type": "execute_result"
    }
   ],
   "source": [
    "pd.pivot_table(df, \"Income\", index = [\"Product\", \"Gender\"],\n",
    "               columns= [\"MaritalStatus\"])"
   ]
  },
  {
   "cell_type": "code",
   "execution_count": 19,
   "id": "smooth-recipient",
   "metadata": {},
   "outputs": [
    {
     "data": {
      "text/plain": [
       "<seaborn.axisgrid.PairGrid at 0x7f9225cae2e0>"
      ]
     },
     "execution_count": 19,
     "metadata": {},
     "output_type": "execute_result"
    },
    {
     "data": {
      "image/png": "[encoded data removed]",
      "text/plain": [
       "<Figure size 1080x1080 with 42 Axes>"
      ]
     },
     "metadata": {
      "needs_background": "light"
     },
     "output_type": "display_data"
    }
   ],
   "source": [
    "sns.pairplot(df)\n",
    "# ignores variables of object datatypes \n",
    "# It is computational in nature and will take in all numerical variables"
   ]
  },
  {
   "cell_type": "code",
   "execution_count": 20,
   "id": "bronze-function",
   "metadata": {},
   "outputs": [
    {
     "data": {
      "text/plain": [
       "28.788888888888888"
      ]
     },
     "execution_count": 20,
     "metadata": {},
     "output_type": "execute_result"
    }
   ],
   "source": [
    "df[\"Age\"].mean()"
   ]
  },
  {
   "cell_type": "markdown",
   "id": "solid-genesis",
   "metadata": {},
   "source": [
    "#### Zipcode requires special solution as it is categorical but would be identified as numerical by default"
   ]
  },
  {
   "cell_type": "code",
   "execution_count": 21,
   "id": "rough-parish",
   "metadata": {},
   "outputs": [
    {
     "name": "stderr",
     "output_type": "stream",
     "text": [
      "/Users/bhaskarroy/opt/anaconda3/lib/python3.8/site-packages/seaborn/distributions.py:2557: FutureWarning: `distplot` is a deprecated function and will be removed in a future version. Please adapt your code to use either `displot` (a figure-level function with similar flexibility) or `histplot` (an axes-level function for histograms).\n",
      "  warnings.warn(msg, FutureWarning)\n"
     ]
    },
    {
     "data": {
      "image/png": "[encoded data removed]",
      "text/plain": [
       "<Figure size 432x288 with 1 Axes>"
      ]
     },
     "metadata": {
      "needs_background": "light"
     },
     "output_type": "display_data"
    }
   ],
   "source": [
    "sns.distplot(df[\"Age\"]);"
   ]
  },
  {
   "cell_type": "markdown",
   "id": "minor-visit",
   "metadata": {},
   "source": [
    "#### Density Plots :  \n",
    "kde (Gaussian kernel density estimate plot) gives the underlying distribution which is the systematic part unaffected by the random errors/variability due to sampling.The Density plot gives a Visual description or simply descriptive representation of the underlying distribution.  \n",
    "  \n",
    "If our distribution thinking is correct, kde should remain unaffected by the choice of samples.  \n",
    "There is an underlying truth but we are not able to see as we have taken a sample.\n",
    "There is an underlying level of blood pressure which we have not seen because we are not able to cover the entire range of possibilities of blood pressures. Measurement in different contexts, situations - at different times, durations, places. For instance, certain bp measurements are sensitive to the body metabolism.  \n",
    "  \n",
    "Cover the entire range of possibilities to see the distribution. If we do not do that, we cannot foresee from where the data can come from. And we may not be able to do predictive and presciptive analytics. "
   ]
  },
  {
   "cell_type": "markdown",
   "id": "decimal-cycle",
   "metadata": {},
   "source": [
    "#### Histograms might differ from sample to sample by the dist plot should remain similar.\n",
    "Histogram summary applies to the particular sample.  \n",
    "\n",
    "F(x) = P(X$\\geq$ x)  \n",
    "f(x) = $F^{'}$(x)  \n",
    "  \n",
    "Distribution function is the integral of the density function.  \n",
    "Density function is the derivative of the Distribution function."
   ]
  },
  {
   "cell_type": "markdown",
   "id": "champion-niger",
   "metadata": {},
   "source": [
    "### The million dollar question ! !\n",
    "Nobody is interested in your data. \n",
    "But we have to analyse our data and figure out a strategy.  \n",
    "We arrive at the essence of Statistical inference."
   ]
  },
  {
   "cell_type": "markdown",
   "id": "colored-incidence",
   "metadata": {},
   "source": [
    "For instance the mean age is 28. But I am not sure if I take a different sample, will I get the same mean.  \n",
    "So, I will give my answer to the mean in terms of an interval i.e. (mean-s.e,mean+s.e) with certain level of confidence. \n",
    "\n",
    "The larger the sample size, the smaller the interval. "
   ]
  },
  {
   "cell_type": "markdown",
   "id": "vocational-lawrence",
   "metadata": {},
   "source": [
    "For instance in a business context, we have released a new product, we want to know the sales.  \n",
    "We are uncertain, we get more and more data to know the distribution. There are so many variables are here.\n",
    "\n",
    "#### With more and more data and experience, you will uncover the distribution.\n",
    "\n",
    "Say if your are doing sentiment analysis. You take twitter data and find the sentiment scores. But what matters also is over what granularity are you expecting to see the peoples opinions remain same. \n",
    "\n",
    "If opinions change every month, I can have a good estimate that is gonna serve me every month.\n",
    "But if opinion change very day, my estimate is not gonna be useful. \n",
    "\n",
    "Whether I am estimating a changing thing or I am estimating a changing thing.  \n",
    "Target Distribution standard\n",
    "\n",
    "\n",
    "From inferential perspective, we start with the sample estimate.\n",
    "\n",
    "##### All models are wrong, but some models are useful.   - George Box\n",
    "Weibull distribution - failure of turbines in engineering  \n",
    "Log normal distribution - financial industry  \n",
    "Every industry has its own favourite distribution.\n",
    "\n",
    "People make assumptions in historical sense.  \n",
    "There are distributions which have worked very well from experience.  \n",
    "In certain industries, there are regulatory requirements as well to adhere to accepted distributions.\n",
    "\n",
    "PAC Learning (Probably Approximately correct)  \n",
    "Probably comes from statistics, approximately from ML\n"
   ]
  },
  {
   "cell_type": "markdown",
   "id": "legitimate-toronto",
   "metadata": {},
   "source": [
    "$\\mu$ is a population parameter. It is fixed, it exists but we do not know its value.  \n",
    "From our sample, we can take either the sample mean or median as an estimate of the population mean. \n",
    "\n",
    "For distributions, where we see outliers incase of skewed distributions, we would take median as the estimate of $\\mu$.  \n",
    "For fairly symmetric distribution, we would take the mean as the estimate.  \n",
    "  \n",
    "Mean and Median carry different kinds of information, both carry important connotations and are useful.  \n",
    "Examples, per capita income from the mean and income of average indian from the median.  \n",
    "Another example, Typical browsing behaviour can be represented in the form of heavy tailed distribution (many small numbers and a few larger numbers). \n",
    "If the question is how much time I am spending on a website. If I am asking for a representative number, what would be the answer - mean or median.  \n",
    "  \n",
    "Median is saying how much time I am spending on a typical website.  \n",
    "If median is low, it would say most of the time, I am only cruising. On the other hand, if the mean is high, it suggest that I am spending lot of time on particular websites. << Network traffic problem>>  \n",
    "\n",
    "Mean and Median are both simple algorithms.  \n",
    "But Mode is a complex algorithm. Mode is the highest frequency or the most common value. Calculation of mode suggests that data is not numerical and is categorical. Coz it is based on count. It would want data to be placed in chunks/bins. Based on choice of bin width selection, calculation of count will differ. Same would not be the case with mean and median. And hence this has gone out of fashion.\n",
    "\n"
   ]
  },
  {
   "cell_type": "code",
   "execution_count": 22,
   "id": "defensive-control",
   "metadata": {},
   "outputs": [
    {
     "data": {
      "text/plain": [
       "array([<AxesSubplot:title={'center':'Female'}>,\n",
       "       <AxesSubplot:title={'center':'Male'}>], dtype=object)"
      ]
     },
     "execution_count": 22,
     "metadata": {},
     "output_type": "execute_result"
    },
    {
     "data": {
      "image/png": "[encoded data removed]",
      "text/plain": [
       "<Figure size 432x288 with 2 Axes>"
      ]
     },
     "metadata": {
      "needs_background": "light"
     },
     "output_type": "display_data"
    }
   ],
   "source": [
    "df.hist(by = \"Gender\", column = \"Income\")"
   ]
  },
  {
   "cell_type": "code",
   "execution_count": 23,
   "id": "unavailable-blood",
   "metadata": {},
   "outputs": [
    {
     "data": {
      "text/plain": [
       "array([[<AxesSubplot:title={'center':'TM195'}>,\n",
       "        <AxesSubplot:title={'center':'TM498'}>],\n",
       "       [<AxesSubplot:title={'center':'TM798'}>, <AxesSubplot:>]],\n",
       "      dtype=object)"
      ]
     },
     "execution_count": 23,
     "metadata": {},
     "output_type": "execute_result"
    },
    {
     "data": {
      "image/png": "[encoded data removed]",
      "text/plain": [
       "<Figure size 720x720 with 4 Axes>"
      ]
     },
     "metadata": {
      "needs_background": "light"
     },
     "output_type": "display_data"
    }
   ],
   "source": [
    "df.hist(by = \"Product\", column = \"Miles\", figsize=(10,10))"
   ]
  },
  {
   "cell_type": "markdown",
   "id": "searching-travel",
   "metadata": {},
   "source": [
    "#### Bivariate Relationships  \n",
    "A sense of relation or rather correlation  \n",
    "Many many ways of defining the relationship with a number  \n",
    "  \n",
    "Covariance is used quite often in\n",
    "* Dimensional Analysis\n",
    "* Portfolio management  \n",
    "  \n",
    "Covariance gives a measure of the strength of linear relationship between two variables.\n",
    "Covariance depends on the units of the variables. To take care of this, we standardise the deviances in the formula and this would give us the correlation between two variables.  \n",
    "  \n",
    "  \n",
    "Formulas : \n",
    "\n",
    "$Cov_{x,y}$ = $\\frac{\\sum(X_i-\\overline{X})(Y_i-\\overline{Y})}{n-1}$\n",
    "\n",
    "If with increase in values of x, if y also increases.\n",
    "If with decrease in values of x, if y also decreases, covariance sign will be positive. \n",
    "Please note, we are not suggesting causation here but only correlation. \n",
    "\n",
    "\n",
    "Scaled verson of covariance is correlation.\n",
    "Correlation = $\\frac{1}{n-1}\\sum\\frac{(X_i-\\overline{X})}{s_x}\\frac{(Y_i-\\overline{Y})}{s_y}$\n",
    "  \n",
    "  \n",
    "  \n",
    "  "
   ]
  },
  {
   "cell_type": "code",
   "execution_count": 24,
   "id": "enhanced-wheat",
   "metadata": {},
   "outputs": [
    {
     "data": {
      "text/html": [
       "<div>\n",
       "<style scoped>\n",
       "    .dataframe tbody tr th:only-of-type {\n",
       "        vertical-align: middle;\n",
       "    }\n",
       "\n",
       "    .dataframe tbody tr th {\n",
       "        vertical-align: top;\n",
       "    }\n",
       "\n",
       "    .dataframe thead th {\n",
       "        text-align: right;\n",
       "    }\n",
       "</style>\n",
       "<table border=\"1\" class=\"dataframe\">\n",
       "  <thead>\n",
       "    <tr style=\"text-align: right;\">\n",
       "      <th></th>\n",
       "      <th>Age</th>\n",
       "      <th>Education</th>\n",
       "      <th>Usage</th>\n",
       "      <th>Fitness</th>\n",
       "      <th>Income</th>\n",
       "      <th>Miles</th>\n",
       "    </tr>\n",
       "  </thead>\n",
       "  <tbody>\n",
       "    <tr>\n",
       "      <th>Age</th>\n",
       "      <td>1.000000</td>\n",
       "      <td>0.280496</td>\n",
       "      <td>0.015064</td>\n",
       "      <td>0.061105</td>\n",
       "      <td>0.513414</td>\n",
       "      <td>0.036618</td>\n",
       "    </tr>\n",
       "    <tr>\n",
       "      <th>Education</th>\n",
       "      <td>0.280496</td>\n",
       "      <td>1.000000</td>\n",
       "      <td>0.395155</td>\n",
       "      <td>0.410581</td>\n",
       "      <td>0.625827</td>\n",
       "      <td>0.307284</td>\n",
       "    </tr>\n",
       "    <tr>\n",
       "      <th>Usage</th>\n",
       "      <td>0.015064</td>\n",
       "      <td>0.395155</td>\n",
       "      <td>1.000000</td>\n",
       "      <td>0.668606</td>\n",
       "      <td>0.519537</td>\n",
       "      <td>0.759130</td>\n",
       "    </tr>\n",
       "    <tr>\n",
       "      <th>Fitness</th>\n",
       "      <td>0.061105</td>\n",
       "      <td>0.410581</td>\n",
       "      <td>0.668606</td>\n",
       "      <td>1.000000</td>\n",
       "      <td>0.535005</td>\n",
       "      <td>0.785702</td>\n",
       "    </tr>\n",
       "    <tr>\n",
       "      <th>Income</th>\n",
       "      <td>0.513414</td>\n",
       "      <td>0.625827</td>\n",
       "      <td>0.519537</td>\n",
       "      <td>0.535005</td>\n",
       "      <td>1.000000</td>\n",
       "      <td>0.543473</td>\n",
       "    </tr>\n",
       "    <tr>\n",
       "      <th>Miles</th>\n",
       "      <td>0.036618</td>\n",
       "      <td>0.307284</td>\n",
       "      <td>0.759130</td>\n",
       "      <td>0.785702</td>\n",
       "      <td>0.543473</td>\n",
       "      <td>1.000000</td>\n",
       "    </tr>\n",
       "  </tbody>\n",
       "</table>\n",
       "</div>"
      ],
      "text/plain": [
       "                Age  Education     Usage   Fitness    Income     Miles\n",
       "Age        1.000000   0.280496  0.015064  0.061105  0.513414  0.036618\n",
       "Education  0.280496   1.000000  0.395155  0.410581  0.625827  0.307284\n",
       "Usage      0.015064   0.395155  1.000000  0.668606  0.519537  0.759130\n",
       "Fitness    0.061105   0.410581  0.668606  1.000000  0.535005  0.785702\n",
       "Income     0.513414   0.625827  0.519537  0.535005  1.000000  0.543473\n",
       "Miles      0.036618   0.307284  0.759130  0.785702  0.543473  1.000000"
      ]
     },
     "execution_count": 24,
     "metadata": {},
     "output_type": "execute_result"
    }
   ],
   "source": [
    "corr = df.corr()\n",
    "corr"
   ]
  },
  {
   "cell_type": "code",
   "execution_count": 25,
   "id": "decent-contractor",
   "metadata": {},
   "outputs": [
    {
     "data": {
      "image/png": "[encoded data removed]",
      "text/plain": [
       "<Figure size 720x720 with 2 Axes>"
      ]
     },
     "metadata": {
      "needs_background": "light"
     },
     "output_type": "display_data"
    }
   ],
   "source": [
    "g = sns.heatmap(corr, annot= True)\n",
    "g.figure.set_figheight(10)\n",
    "g.figure.set_figwidth(10)"
   ]
  },
  {
   "cell_type": "markdown",
   "id": "extra-airline",
   "metadata": {},
   "source": [
    "#### Heat Map  \n",
    "Traditional choice is that Hot is related. (Red colours)  \n",
    "White is not. But coding of heat map colours can be changed."
   ]
  },
  {
   "cell_type": "markdown",
   "id": "proud-statement",
   "metadata": {},
   "source": [
    "### Linear Regression\n",
    "\n",
    "* Descriptive Usage\n",
    "    - Simply describes, no predicting\n",
    "* Predictive Usage  \n",
    "    - Predicting on new data\n",
    "* Prescriptive Usage  \n",
    "\n",
    "  \n",
    "3:22 https://youtu.be/u2zsY-2uZiE"
   ]
  },
  {
   "cell_type": "markdown",
   "id": "assured-times",
   "metadata": {},
   "source": [
    "### Descriptive Statistics   \n",
    "* Univariate\n",
    "    * Location - mean, median, Q3, Q1\n",
    "    * Variation/Dispersion/Spread - Standard deviation, range, IQR\n",
    "  \n",
    "#### Five point summary covers both location and spread  \n",
    "* Bivariate - covariance, correlation  \n",
    "* Multivariate - Linear Regression  \n",
    "    * $y = \\beta_0+\\beta_1x_1+...+\\beta_px_p$  \n",
    "* Plots - histogram, boxplots, pairs/scatterplots\n",
    "  \n",
    "https://latex.wikia.org/wiki/List_of_LaTeX_symbols\n"
   ]
  },
  {
   "cell_type": "markdown",
   "id": "ultimate-apartment",
   "metadata": {},
   "source": [
    "#### Visualization limitations in Multivariate Analysis  \n",
    "-- histograms, boxplots, pairs/scatterplots are for the human mind  \n",
    "-- Visually we are comfortable with three dimensions  \n",
    "-- In Advanced visualisations, On a two dimensional plot, we can include further dimensions through color, shape, size of the points "
   ]
  },
  {
   "cell_type": "markdown",
   "id": "defined-seafood",
   "metadata": {},
   "source": [
    "### Ordinary Least Squares Regression   \n",
    "We will get the least regression line by finding the values of the coefficients $\\beta_0,\\beta_1$ that minimises $ \\sum(y_i-\\beta_0-\\beta_1x_i)^2$. \n",
    "\n",
    "The cost function being the sum of squared residuals is a convex function which enables us to find the values $\\beta_0, \\beta_1$ that minimises the cost function. That is where Laplace succeeded.\n"
   ]
  },
  {
   "cell_type": "markdown",
   "id": "raised-anchor",
   "metadata": {},
   "source": [
    "$\\hat{\\beta_1}$ = $\\frac{\\sum{(x_i-\\overline{x})(y_i-\\overline{y})}}{\\sum(x_i-\\overline{x})^2}$ = $\\frac{Cov(x,y)}{Var(x)}$  \n",
    "  \n",
    "$\\hat{\\beta_0} = \\overline{y}-\\beta_1\\overline{x}$  \n",
    "\n",
    "From the second equation, the least squares regression line will pass through the $(\\bar{x},\\bar{y})$\n",
    "\n"
   ]
  },
  {
   "cell_type": "markdown",
   "id": "ready-school",
   "metadata": {},
   "source": [
    "### Business context\n",
    "-- Predict  \n",
    "-- Prescribe  \n",
    "-- Describe\n",
    "\n",
    "\n",
    "How do you measure how Price sensitive your product is ?  \n",
    "#### Elasticity of demand - Is my demand elastic or inelastic ?  \n",
    "Marketing analytics is concerned with this type of question.\n",
    "If my price changes by one%, by what% I expect my sales to change ?  \n",
    "The slope of the linear regression between log sales and log price gives us the elasticity of demand.  \n",
    "* Inelastic - For instance, salt is inelastic. If I change the price of salt, i do not expect to see change in demand.  "
   ]
  },
  {
   "cell_type": "markdown",
   "id": "joint-religion",
   "metadata": {},
   "source": [
    "## Building the Simple Linear Regression Model  \n",
    "\n",
    "We want to understand the relationship of Miles with the other variables.  \n",
    "From the correlation matrix, the correlation with Usage is highest (0.76).  \n",
    "So, we wil build a model with Usage as the predictor and Miles as the Target variable.\n"
   ]
  },
  {
   "cell_type": "code",
   "execution_count": 26,
   "id": "another-brief",
   "metadata": {},
   "outputs": [
    {
     "data": {
      "text/html": [
       "<div>\n",
       "<style scoped>\n",
       "    .dataframe tbody tr th:only-of-type {\n",
       "        vertical-align: middle;\n",
       "    }\n",
       "\n",
       "    .dataframe tbody tr th {\n",
       "        vertical-align: top;\n",
       "    }\n",
       "\n",
       "    .dataframe thead th {\n",
       "        text-align: right;\n",
       "    }\n",
       "</style>\n",
       "<table border=\"1\" class=\"dataframe\">\n",
       "  <thead>\n",
       "    <tr style=\"text-align: right;\">\n",
       "      <th></th>\n",
       "      <th>Age</th>\n",
       "      <th>Education</th>\n",
       "      <th>Usage</th>\n",
       "      <th>Fitness</th>\n",
       "      <th>Income</th>\n",
       "      <th>Miles</th>\n",
       "    </tr>\n",
       "  </thead>\n",
       "  <tbody>\n",
       "    <tr>\n",
       "      <th>Age</th>\n",
       "      <td>48.212166</td>\n",
       "      <td>3.149410</td>\n",
       "      <td>0.113470</td>\n",
       "      <td>0.406828</td>\n",
       "      <td>5.884446e+04</td>\n",
       "      <td>13.186530</td>\n",
       "    </tr>\n",
       "    <tr>\n",
       "      <th>Education</th>\n",
       "      <td>3.149410</td>\n",
       "      <td>2.614867</td>\n",
       "      <td>0.693172</td>\n",
       "      <td>0.636623</td>\n",
       "      <td>1.670472e+04</td>\n",
       "      <td>25.770795</td>\n",
       "    </tr>\n",
       "    <tr>\n",
       "      <th>Usage</th>\n",
       "      <td>0.113470</td>\n",
       "      <td>0.693172</td>\n",
       "      <td>1.176785</td>\n",
       "      <td>0.695469</td>\n",
       "      <td>9.303043e+03</td>\n",
       "      <td>42.709808</td>\n",
       "    </tr>\n",
       "    <tr>\n",
       "      <th>Fitness</th>\n",
       "      <td>0.406828</td>\n",
       "      <td>0.636623</td>\n",
       "      <td>0.695469</td>\n",
       "      <td>0.919429</td>\n",
       "      <td>8.467925e+03</td>\n",
       "      <td>39.073246</td>\n",
       "    </tr>\n",
       "    <tr>\n",
       "      <th>Income</th>\n",
       "      <td>58844.463439</td>\n",
       "      <td>16704.717815</td>\n",
       "      <td>9303.042582</td>\n",
       "      <td>8467.925388</td>\n",
       "      <td>2.724706e+08</td>\n",
       "      <td>465265.361887</td>\n",
       "    </tr>\n",
       "    <tr>\n",
       "      <th>Miles</th>\n",
       "      <td>13.186530</td>\n",
       "      <td>25.770795</td>\n",
       "      <td>42.709808</td>\n",
       "      <td>39.073246</td>\n",
       "      <td>4.652654e+05</td>\n",
       "      <td>2689.833489</td>\n",
       "    </tr>\n",
       "  </tbody>\n",
       "</table>\n",
       "</div>"
      ],
      "text/plain": [
       "                    Age     Education        Usage      Fitness        Income  \\\n",
       "Age           48.212166      3.149410     0.113470     0.406828  5.884446e+04   \n",
       "Education      3.149410      2.614867     0.693172     0.636623  1.670472e+04   \n",
       "Usage          0.113470      0.693172     1.176785     0.695469  9.303043e+03   \n",
       "Fitness        0.406828      0.636623     0.695469     0.919429  8.467925e+03   \n",
       "Income     58844.463439  16704.717815  9303.042582  8467.925388  2.724706e+08   \n",
       "Miles         13.186530     25.770795    42.709808    39.073246  4.652654e+05   \n",
       "\n",
       "                   Miles  \n",
       "Age            13.186530  \n",
       "Education      25.770795  \n",
       "Usage          42.709808  \n",
       "Fitness        39.073246  \n",
       "Income     465265.361887  \n",
       "Miles        2689.833489  "
      ]
     },
     "execution_count": 26,
     "metadata": {},
     "output_type": "execute_result"
    }
   ],
   "source": [
    "df.cov()"
   ]
  },
  {
   "cell_type": "code",
   "execution_count": 29,
   "id": "gothic-works",
   "metadata": {},
   "outputs": [
    {
     "data": {
      "text/plain": [
       "51.86360466180934"
      ]
     },
     "execution_count": 29,
     "metadata": {},
     "output_type": "execute_result"
    }
   ],
   "source": [
    "df[\"Miles\"].std()"
   ]
  },
  {
   "cell_type": "code",
   "execution_count": 59,
   "id": "overall-priority",
   "metadata": {},
   "outputs": [
    {
     "data": {
      "text/plain": [
       "1.1767846058348868"
      ]
     },
     "execution_count": 59,
     "metadata": {},
     "output_type": "execute_result"
    }
   ],
   "source": [
    "# Variance of Usage\n",
    "df.Usage.var()"
   ]
  },
  {
   "cell_type": "code",
   "execution_count": 65,
   "id": "optical-moral",
   "metadata": {},
   "outputs": [
    {
     "data": {
      "text/plain": [
       "36.31802721088436"
      ]
     },
     "execution_count": 65,
     "metadata": {},
     "output_type": "execute_result"
    }
   ],
   "source": [
    "# calculating coefficient(slope) manually from first principles\n",
    "coef_reg = 42.71/1.176\n",
    "coef_reg"
   ]
  },
  {
   "cell_type": "code",
   "execution_count": 66,
   "id": "earned-intent",
   "metadata": {},
   "outputs": [
    {
     "data": {
      "text/plain": [
       "-22.304516250944843"
      ]
     },
     "execution_count": 66,
     "metadata": {},
     "output_type": "execute_result"
    }
   ],
   "source": [
    "# calculating the intercept manually from first principles \n",
    "intercept_reg = df[\"Miles\"].mean()-coef_reg*df[\"Usage\"].mean()\n",
    "intercept_reg"
   ]
  },
  {
   "cell_type": "code",
   "execution_count": 53,
   "id": "quick-recipient",
   "metadata": {},
   "outputs": [
    {
     "data": {
      "text/plain": [
       "(180, 1)"
      ]
     },
     "execution_count": 53,
     "metadata": {},
     "output_type": "execute_result"
    }
   ],
   "source": [
    "df[[\"Usage\"]].shape"
   ]
  },
  {
   "cell_type": "code",
   "execution_count": 54,
   "id": "accurate-punch",
   "metadata": {},
   "outputs": [
    {
     "data": {
      "text/plain": [
       "LinearRegression()"
      ]
     },
     "execution_count": 54,
     "metadata": {},
     "output_type": "execute_result"
    }
   ],
   "source": [
    "# Simple Linear Regression\n",
    "\n",
    "# Load Function from sklearn\n",
    "\n",
    "from sklearn import linear_model\n",
    "\n",
    "# Create Linear Regression object\n",
    "regr = linear_model.LinearRegression()\n",
    "\n",
    "y = df[\"Miles\"]\n",
    "x= df[[\"Usage\"]]\n",
    "\n",
    "# Train the model using the training sets\n",
    "regr.fit(x,y)"
   ]
  },
  {
   "cell_type": "code",
   "execution_count": 56,
   "id": "municipal-boating",
   "metadata": {},
   "outputs": [
    {
     "data": {
      "text/plain": [
       "array([36.29364912])"
      ]
     },
     "execution_count": 56,
     "metadata": {},
     "output_type": "execute_result"
    }
   ],
   "source": [
    "regr.coef_"
   ]
  },
  {
   "cell_type": "code",
   "execution_count": 57,
   "id": "perfect-paintball",
   "metadata": {},
   "outputs": [
    {
     "data": {
      "text/plain": [
       "-22.220276400464215"
      ]
     },
     "execution_count": 57,
     "metadata": {},
     "output_type": "execute_result"
    }
   ],
   "source": [
    "regr.intercept_"
   ]
  },
  {
   "cell_type": "code",
   "execution_count": null,
   "id": "important-yacht",
   "metadata": {},
   "outputs": [],
   "source": []
  }
 ],
 "metadata": {
  "kernelspec": {
   "display_name": "Python 3",
   "language": "python",
   "name": "python3"
  },
  "language_info": {
   "codemirror_mode": {
    "name": "ipython",
    "version": 3
   },
   "file_extension": ".py",
   "mimetype": "text/x-python",
   "name": "python",
   "nbconvert_exporter": "python",
   "pygments_lexer": "ipython3",
   "version": "3.8.3"
  }
 },
 "nbformat": 4,
 "nbformat_minor": 5
}
